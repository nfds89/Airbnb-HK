{
 "cells": [
  {
   "cell_type": "markdown",
   "metadata": {},
   "source": [
    "### Import the needed Libraries"
   ]
  },
  {
   "cell_type": "code",
   "execution_count": 261,
   "metadata": {},
   "outputs": [],
   "source": [
    "import pandas as pd\n",
    "import numpy as np\n",
    "import matplotlib.pyplot as plt\n",
    "\n",
    "%matplotlib inline"
   ]
  },
  {
   "cell_type": "markdown",
   "metadata": {},
   "source": [
    "### Import the dataset and take a first look"
   ]
  },
  {
   "cell_type": "code",
   "execution_count": 262,
   "metadata": {},
   "outputs": [],
   "source": [
    "listings = pd.read_csv('data/listings.csv')"
   ]
  },
  {
   "cell_type": "code",
   "execution_count": 263,
   "metadata": {},
   "outputs": [
    {
     "data": {
      "text/plain": [
       "(9404, 96)"
      ]
     },
     "execution_count": 263,
     "metadata": {},
     "output_type": "execute_result"
    }
   ],
   "source": [
    "listings.shape"
   ]
  },
  {
   "cell_type": "code",
   "execution_count": 264,
   "metadata": {
    "scrolled": true
   },
   "outputs": [
    {
     "data": {
      "text/plain": [
       "Index(['id', 'listing_url', 'scrape_id', 'last_scraped', 'name', 'summary',\n",
       "       'space', 'description', 'experiences_offered', 'neighborhood_overview',\n",
       "       'notes', 'transit', 'access', 'interaction', 'house_rules',\n",
       "       'thumbnail_url', 'medium_url', 'picture_url', 'xl_picture_url',\n",
       "       'host_id', 'host_url', 'host_name', 'host_since', 'host_location',\n",
       "       'host_about', 'host_response_time', 'host_response_rate',\n",
       "       'host_acceptance_rate', 'host_is_superhost', 'host_thumbnail_url',\n",
       "       'host_picture_url', 'host_neighbourhood', 'host_listings_count',\n",
       "       'host_total_listings_count', 'host_verifications',\n",
       "       'host_has_profile_pic', 'host_identity_verified', 'street',\n",
       "       'neighbourhood', 'neighbourhood_cleansed',\n",
       "       'neighbourhood_group_cleansed', 'city', 'state', 'zipcode', 'market',\n",
       "       'smart_location', 'country_code', 'country', 'latitude', 'longitude',\n",
       "       'is_location_exact', 'property_type', 'room_type', 'accommodates',\n",
       "       'bathrooms', 'bedrooms', 'beds', 'bed_type', 'amenities', 'square_feet',\n",
       "       'price', 'weekly_price', 'monthly_price', 'security_deposit',\n",
       "       'cleaning_fee', 'guests_included', 'extra_people', 'minimum_nights',\n",
       "       'maximum_nights', 'calendar_updated', 'has_availability',\n",
       "       'availability_30', 'availability_60', 'availability_90',\n",
       "       'availability_365', 'calendar_last_scraped', 'number_of_reviews',\n",
       "       'first_review', 'last_review', 'review_scores_rating',\n",
       "       'review_scores_accuracy', 'review_scores_cleanliness',\n",
       "       'review_scores_checkin', 'review_scores_communication',\n",
       "       'review_scores_location', 'review_scores_value', 'requires_license',\n",
       "       'license', 'jurisdiction_names', 'instant_bookable',\n",
       "       'is_business_travel_ready', 'cancellation_policy',\n",
       "       'require_guest_profile_picture', 'require_guest_phone_verification',\n",
       "       'calculated_host_listings_count', 'reviews_per_month'],\n",
       "      dtype='object')"
      ]
     },
     "execution_count": 264,
     "metadata": {},
     "output_type": "execute_result"
    }
   ],
   "source": [
    "listings.columns"
   ]
  },
  {
   "cell_type": "markdown",
   "metadata": {},
   "source": [
    "As this dataset includes a large number of columns, and most of them not really useful, we can select the columns we have interest on.\n",
    "\n",
    "Columns such as 'id', 'name' and 'listing_url' won't probably hold any value for future data representation and modelling, but might help in the cleaning process. So they are imported to the dataset for now, but most will be removed later on."
   ]
  },
  {
   "cell_type": "code",
   "execution_count": 265,
   "metadata": {},
   "outputs": [],
   "source": [
    "columns = ['id', 'name', 'listing_url', 'price', 'host_id', 'neighbourhood_cleansed', 'latitude', 'longitude',\n",
    "           'property_type', 'room_type', 'accommodates', 'bathrooms', 'bedrooms', 'beds', 'bed_type', 'amenities',\n",
    "           'number_of_reviews', 'review_scores_rating', 'review_scores_location', 'reviews_per_month']\n",
    "\n",
    "listings = listings[columns]"
   ]
  },
  {
   "cell_type": "code",
   "execution_count": 266,
   "metadata": {
    "scrolled": true
   },
   "outputs": [
    {
     "data": {
      "text/html": [
       "<div>\n",
       "<style scoped>\n",
       "    .dataframe tbody tr th:only-of-type {\n",
       "        vertical-align: middle;\n",
       "    }\n",
       "\n",
       "    .dataframe tbody tr th {\n",
       "        vertical-align: top;\n",
       "    }\n",
       "\n",
       "    .dataframe thead th {\n",
       "        text-align: right;\n",
       "    }\n",
       "</style>\n",
       "<table border=\"1\" class=\"dataframe\">\n",
       "  <thead>\n",
       "    <tr style=\"text-align: right;\">\n",
       "      <th></th>\n",
       "      <th>id</th>\n",
       "      <th>name</th>\n",
       "      <th>listing_url</th>\n",
       "      <th>price</th>\n",
       "      <th>host_id</th>\n",
       "      <th>neighbourhood_cleansed</th>\n",
       "      <th>latitude</th>\n",
       "      <th>longitude</th>\n",
       "      <th>property_type</th>\n",
       "      <th>room_type</th>\n",
       "      <th>accommodates</th>\n",
       "      <th>bathrooms</th>\n",
       "      <th>bedrooms</th>\n",
       "      <th>beds</th>\n",
       "      <th>bed_type</th>\n",
       "      <th>amenities</th>\n",
       "      <th>number_of_reviews</th>\n",
       "      <th>review_scores_rating</th>\n",
       "      <th>review_scores_location</th>\n",
       "      <th>reviews_per_month</th>\n",
       "    </tr>\n",
       "  </thead>\n",
       "  <tbody>\n",
       "    <tr>\n",
       "      <th>0</th>\n",
       "      <td>69074</td>\n",
       "      <td>Beautiful oasis of plants &amp; art and best location</td>\n",
       "      <td>https://www.airbnb.com/rooms/69074</td>\n",
       "      <td>$1,413.00</td>\n",
       "      <td>160139</td>\n",
       "      <td>Central &amp; Western</td>\n",
       "      <td>22.283516</td>\n",
       "      <td>114.150177</td>\n",
       "      <td>Apartment</td>\n",
       "      <td>Entire home/apt</td>\n",
       "      <td>3</td>\n",
       "      <td>1.0</td>\n",
       "      <td>1.0</td>\n",
       "      <td>2.0</td>\n",
       "      <td>Real Bed</td>\n",
       "      <td>{\"Cable TV\",Internet,Wifi,\"Air conditioning\",K...</td>\n",
       "      <td>103</td>\n",
       "      <td>97.0</td>\n",
       "      <td>10.0</td>\n",
       "      <td>1.14</td>\n",
       "    </tr>\n",
       "    <tr>\n",
       "      <th>1</th>\n",
       "      <td>101765</td>\n",
       "      <td>Lamma Island flat 2min walk from the beach!</td>\n",
       "      <td>https://www.airbnb.com/rooms/101765</td>\n",
       "      <td>$432.00</td>\n",
       "      <td>532909</td>\n",
       "      <td>Islands</td>\n",
       "      <td>22.200224</td>\n",
       "      <td>114.134609</td>\n",
       "      <td>Townhouse</td>\n",
       "      <td>Entire home/apt</td>\n",
       "      <td>1</td>\n",
       "      <td>1.0</td>\n",
       "      <td>1.0</td>\n",
       "      <td>1.0</td>\n",
       "      <td>Real Bed</td>\n",
       "      <td>{TV,Wifi,\"Air conditioning\",Kitchen,\"Pets live...</td>\n",
       "      <td>2</td>\n",
       "      <td>80.0</td>\n",
       "      <td>8.0</td>\n",
       "      <td>0.63</td>\n",
       "    </tr>\n",
       "    <tr>\n",
       "      <th>2</th>\n",
       "      <td>103760</td>\n",
       "      <td>Central Centre 5 min walk to/from Central MTR</td>\n",
       "      <td>https://www.airbnb.com/rooms/103760</td>\n",
       "      <td>$855.00</td>\n",
       "      <td>304876</td>\n",
       "      <td>Central &amp; Western</td>\n",
       "      <td>22.284074</td>\n",
       "      <td>114.155696</td>\n",
       "      <td>Apartment</td>\n",
       "      <td>Entire home/apt</td>\n",
       "      <td>6</td>\n",
       "      <td>1.0</td>\n",
       "      <td>2.0</td>\n",
       "      <td>3.0</td>\n",
       "      <td>Real Bed</td>\n",
       "      <td>{TV,\"Cable TV\",Internet,Wifi,\"Air conditioning...</td>\n",
       "      <td>229</td>\n",
       "      <td>88.0</td>\n",
       "      <td>9.0</td>\n",
       "      <td>2.66</td>\n",
       "    </tr>\n",
       "    <tr>\n",
       "      <th>3</th>\n",
       "      <td>132773</td>\n",
       "      <td>Fabulous 2 Bdrm Aprt Open kitchen</td>\n",
       "      <td>https://www.airbnb.com/rooms/132773</td>\n",
       "      <td>$1,060.00</td>\n",
       "      <td>304876</td>\n",
       "      <td>Central &amp; Western</td>\n",
       "      <td>22.288679</td>\n",
       "      <td>114.144944</td>\n",
       "      <td>Apartment</td>\n",
       "      <td>Entire home/apt</td>\n",
       "      <td>6</td>\n",
       "      <td>1.0</td>\n",
       "      <td>2.0</td>\n",
       "      <td>2.0</td>\n",
       "      <td>Real Bed</td>\n",
       "      <td>{TV,\"Cable TV\",Internet,Wifi,\"Air conditioning...</td>\n",
       "      <td>153</td>\n",
       "      <td>88.0</td>\n",
       "      <td>8.0</td>\n",
       "      <td>1.80</td>\n",
       "    </tr>\n",
       "    <tr>\n",
       "      <th>4</th>\n",
       "      <td>133390</td>\n",
       "      <td>Soho, Hong Kong 1 bedroom flat</td>\n",
       "      <td>https://www.airbnb.com/rooms/133390</td>\n",
       "      <td>$942.00</td>\n",
       "      <td>654642</td>\n",
       "      <td>Central &amp; Western</td>\n",
       "      <td>22.283435</td>\n",
       "      <td>114.155392</td>\n",
       "      <td>Apartment</td>\n",
       "      <td>Entire home/apt</td>\n",
       "      <td>2</td>\n",
       "      <td>1.0</td>\n",
       "      <td>1.0</td>\n",
       "      <td>1.0</td>\n",
       "      <td>Real Bed</td>\n",
       "      <td>{TV,\"Cable TV\",Internet,Wifi,\"Air conditioning...</td>\n",
       "      <td>27</td>\n",
       "      <td>97.0</td>\n",
       "      <td>10.0</td>\n",
       "      <td>0.32</td>\n",
       "    </tr>\n",
       "  </tbody>\n",
       "</table>\n",
       "</div>"
      ],
      "text/plain": [
       "       id                                               name  \\\n",
       "0   69074  Beautiful oasis of plants & art and best location   \n",
       "1  101765        Lamma Island flat 2min walk from the beach!   \n",
       "2  103760      Central Centre 5 min walk to/from Central MTR   \n",
       "3  132773                 Fabulous 2 Bdrm Aprt Open kitchen    \n",
       "4  133390                     Soho, Hong Kong 1 bedroom flat   \n",
       "\n",
       "                           listing_url      price  host_id  \\\n",
       "0   https://www.airbnb.com/rooms/69074  $1,413.00   160139   \n",
       "1  https://www.airbnb.com/rooms/101765    $432.00   532909   \n",
       "2  https://www.airbnb.com/rooms/103760    $855.00   304876   \n",
       "3  https://www.airbnb.com/rooms/132773  $1,060.00   304876   \n",
       "4  https://www.airbnb.com/rooms/133390    $942.00   654642   \n",
       "\n",
       "  neighbourhood_cleansed   latitude   longitude property_type  \\\n",
       "0      Central & Western  22.283516  114.150177     Apartment   \n",
       "1                Islands  22.200224  114.134609     Townhouse   \n",
       "2      Central & Western  22.284074  114.155696     Apartment   \n",
       "3      Central & Western  22.288679  114.144944     Apartment   \n",
       "4      Central & Western  22.283435  114.155392     Apartment   \n",
       "\n",
       "         room_type  accommodates  bathrooms  bedrooms  beds  bed_type  \\\n",
       "0  Entire home/apt             3        1.0       1.0   2.0  Real Bed   \n",
       "1  Entire home/apt             1        1.0       1.0   1.0  Real Bed   \n",
       "2  Entire home/apt             6        1.0       2.0   3.0  Real Bed   \n",
       "3  Entire home/apt             6        1.0       2.0   2.0  Real Bed   \n",
       "4  Entire home/apt             2        1.0       1.0   1.0  Real Bed   \n",
       "\n",
       "                                           amenities  number_of_reviews  \\\n",
       "0  {\"Cable TV\",Internet,Wifi,\"Air conditioning\",K...                103   \n",
       "1  {TV,Wifi,\"Air conditioning\",Kitchen,\"Pets live...                  2   \n",
       "2  {TV,\"Cable TV\",Internet,Wifi,\"Air conditioning...                229   \n",
       "3  {TV,\"Cable TV\",Internet,Wifi,\"Air conditioning...                153   \n",
       "4  {TV,\"Cable TV\",Internet,Wifi,\"Air conditioning...                 27   \n",
       "\n",
       "   review_scores_rating  review_scores_location  reviews_per_month  \n",
       "0                  97.0                    10.0               1.14  \n",
       "1                  80.0                     8.0               0.63  \n",
       "2                  88.0                     9.0               2.66  \n",
       "3                  88.0                     8.0               1.80  \n",
       "4                  97.0                    10.0               0.32  "
      ]
     },
     "execution_count": 266,
     "metadata": {},
     "output_type": "execute_result"
    }
   ],
   "source": [
    "listings.head()"
   ]
  },
  {
   "cell_type": "markdown",
   "metadata": {},
   "source": [
    "### Price Column\n",
    "\n",
    "The first step it to remove the $ and convert the values to int. Afterwards let's check for outliers decide what to do with them."
   ]
  },
  {
   "cell_type": "code",
   "execution_count": 267,
   "metadata": {},
   "outputs": [],
   "source": [
    "listings.price = listings.price.apply(lambda x: x.split('.')[0]).replace('[^0-9]', '', regex=True).apply(lambda x: int(x)) "
   ]
  },
  {
   "cell_type": "code",
   "execution_count": 268,
   "metadata": {
    "scrolled": true
   },
   "outputs": [
    {
     "data": {
      "text/plain": [
       "count     9404.000000\n",
       "mean       840.803594\n",
       "std       2049.363717\n",
       "min          0.000000\n",
       "25%        369.000000\n",
       "50%        589.000000\n",
       "75%        903.000000\n",
       "max      78475.000000\n",
       "Name: price, dtype: float64"
      ]
     },
     "execution_count": 268,
     "metadata": {},
     "output_type": "execute_result"
    }
   ],
   "source": [
    "listings.price.describe()"
   ]
  },
  {
   "cell_type": "markdown",
   "metadata": {},
   "source": [
    "From a first look on the statistic analysis of the listings price, it's noticeable the minimum price as 0 and an outstanding maximum price."
   ]
  },
  {
   "cell_type": "code",
   "execution_count": 269,
   "metadata": {
    "scrolled": true
   },
   "outputs": [
    {
     "data": {
      "text/plain": [
       "10"
      ]
     },
     "execution_count": 269,
     "metadata": {},
     "output_type": "execute_result"
    }
   ],
   "source": [
    "listings[listings.price == 0].id.count()"
   ]
  },
  {
   "cell_type": "markdown",
   "metadata": {},
   "source": [
    "There's 10 listings with price as 0, so let's remove these rows first."
   ]
  },
  {
   "cell_type": "code",
   "execution_count": 270,
   "metadata": {},
   "outputs": [],
   "source": [
    "listings = listings[listings.price != 0]"
   ]
  },
  {
   "cell_type": "markdown",
   "metadata": {},
   "source": [
    "Now for the remaining outliers, as it can be observed from the chart above, the listings with price above 10.000HKD are not that many, but the range goes up to almost 80.000 HKD. These listings might represent manions, boats or other kind of luxury properties. These outliers need to be removed as, not only representing s small part of the dataset, but also would highly increase the error and standard deviation.\n",
    "\n",
    "In this case, I chose to drop listings with prices higher than 4000 HKD for the 'Entire Home/Apt' room type, and drop listings with prices higher than 2000 HKD for 'Private Room' and 'Shared Room' room types. Following the url links for some of the listings, the current price in the website doesn't match the price in the used dataset. This situation happens more often on the 'Private Room' room type. Taking a deeper look, it was also observed that some of the listings with higher prices don't quite represent serious listings. "
   ]
  },
  {
   "cell_type": "code",
   "execution_count": 271,
   "metadata": {},
   "outputs": [
    {
     "data": {
      "text/plain": [
       "<matplotlib.axes._subplots.AxesSubplot at 0x1a2d93a128>"
      ]
     },
     "execution_count": 271,
     "metadata": {},
     "output_type": "execute_result"
    },
    {
     "data": {
      "image/png": "[encoded data removed]",
      "text/plain": [
       "<Figure size 432x288 with 1 Axes>"
      ]
     },
     "metadata": {},
     "output_type": "display_data"
    }
   ],
   "source": [
    "listings.price.sort_values().reset_index(drop=True).plot()"
   ]
  },
  {
   "cell_type": "code",
   "execution_count": 272,
   "metadata": {},
   "outputs": [],
   "source": [
    "listings = listings[listings.price < 4000]"
   ]
  },
  {
   "cell_type": "code",
   "execution_count": 273,
   "metadata": {},
   "outputs": [
    {
     "data": {
      "text/plain": [
       "(9286, 20)"
      ]
     },
     "execution_count": 273,
     "metadata": {},
     "output_type": "execute_result"
    }
   ],
   "source": [
    "listings.shape"
   ]
  },
  {
   "cell_type": "code",
   "execution_count": 277,
   "metadata": {},
   "outputs": [],
   "source": [
    "listings = listings[~(((listings['room_type'] == 'Private room') | (listings['room_type'] == 'Shared room')) \n",
    "                  & (listings['price'] > 2000))]"
   ]
  },
  {
   "cell_type": "code",
   "execution_count": 278,
   "metadata": {},
   "outputs": [
    {
     "data": {
      "text/plain": [
       "(9226, 20)"
      ]
     },
     "execution_count": 278,
     "metadata": {},
     "output_type": "execute_result"
    }
   ],
   "source": [
    "listings.shape"
   ]
  },
  {
   "cell_type": "markdown",
   "metadata": {},
   "source": [
    "We ended up removing 178 listings from the original dataset."
   ]
  },
  {
   "cell_type": "markdown",
   "metadata": {},
   "source": [
    "### Property Type Column"
   ]
  },
  {
   "cell_type": "markdown",
   "metadata": {},
   "source": [
    "As seen below, the most widely property type is 'Apartment', followed by a great distance by 'Condominium'.\n",
    "\n",
    "Let's just keep the first 4 mostely used property types."
   ]
  },
  {
   "cell_type": "code",
   "execution_count": 279,
   "metadata": {
    "scrolled": true
   },
   "outputs": [
    {
     "data": {
      "text/plain": [
       "property_type\n",
       "Apartment                 6574\n",
       "Condominium                500\n",
       "Hostel                     387\n",
       "House                      374\n",
       "Guesthouse                 272\n",
       "Serviced apartment         208\n",
       "Hotel                      171\n",
       "Bed and breakfast          147\n",
       "Guest suite                135\n",
       "Loft                       127\n",
       "Other                       67\n",
       "Boutique hotel              64\n",
       "Aparthotel                  59\n",
       "Bungalow                    38\n",
       "Townhouse                   31\n",
       "Tent                         8\n",
       "Minsu (Taiwan)               7\n",
       "Villa                        6\n",
       "Cottage                      6\n",
       "Cabin                        5\n",
       "Tiny house                   4\n",
       "Boat                         4\n",
       "Nature lodge                 3\n",
       "Tipi                         3\n",
       "Casa particular (Cuba)       2\n",
       "Chalet                       2\n",
       "Dome house                   2\n",
       "Hut                          2\n",
       "Houseboat                    2\n",
       "Farm stay                    2\n",
       "Barn                         2\n",
       "Pension (South Korea)        2\n",
       "Earth house                  2\n",
       "Vacation home                1\n",
       "Treehouse                    1\n",
       "Dorm                         1\n",
       "Heritage hotel (India)       1\n",
       "Resort                       1\n",
       "Igloo                        1\n",
       "Island                       1\n",
       "Yurt                         1\n",
       "Name: id, dtype: int64"
      ]
     },
     "execution_count": 279,
     "metadata": {},
     "output_type": "execute_result"
    }
   ],
   "source": [
    "listings.groupby('property_type').id.count().sort_values(ascending=False)"
   ]
  },
  {
   "cell_type": "code",
   "execution_count": 280,
   "metadata": {},
   "outputs": [],
   "source": [
    "def clean_property_type(property):\n",
    "    if property not in ['Apartment', 'Condominium', 'Hostel', 'House']:\n",
    "        return 'Other'\n",
    "    return property\n",
    "\n",
    "listings.property_type = listings.property_type.apply(clean_property_type)"
   ]
  },
  {
   "cell_type": "code",
   "execution_count": 281,
   "metadata": {},
   "outputs": [
    {
     "data": {
      "text/plain": [
       "array(['Apartment', 'Other', 'Condominium', 'Hostel', 'House'],\n",
       "      dtype=object)"
      ]
     },
     "execution_count": 281,
     "metadata": {},
     "output_type": "execute_result"
    }
   ],
   "source": [
    "listings.property_type.unique()"
   ]
  },
  {
   "cell_type": "markdown",
   "metadata": {},
   "source": [
    "### Bed Type Column"
   ]
  },
  {
   "cell_type": "markdown",
   "metadata": {},
   "source": [
    "There's many bed types described on the listings, 'Real Bed' representing the big majority. So the remaining bed types will by changed to 'Other'."
   ]
  },
  {
   "cell_type": "code",
   "execution_count": 282,
   "metadata": {},
   "outputs": [
    {
     "data": {
      "text/plain": [
       "bed_type\n",
       "Real Bed         9130\n",
       "Pull-out Sofa      47\n",
       "Futon              23\n",
       "Couch              15\n",
       "Airbed             11\n",
       "Name: id, dtype: int64"
      ]
     },
     "execution_count": 282,
     "metadata": {},
     "output_type": "execute_result"
    }
   ],
   "source": [
    "listings.groupby('bed_type').id.count().sort_values(ascending=False)"
   ]
  },
  {
   "cell_type": "code",
   "execution_count": 283,
   "metadata": {},
   "outputs": [],
   "source": [
    "def clean_bed_type(property):\n",
    "    if property not in ['Real Bed']:\n",
    "        return 'Other'\n",
    "    return property\n",
    "\n",
    "listings.bed_type = listings.bed_type.apply(clean_bed_type)"
   ]
  },
  {
   "cell_type": "code",
   "execution_count": 284,
   "metadata": {},
   "outputs": [
    {
     "data": {
      "text/plain": [
       "array(['Real Bed', 'Other'], dtype=object)"
      ]
     },
     "execution_count": 284,
     "metadata": {},
     "output_type": "execute_result"
    }
   ],
   "source": [
    "listings.bed_type.unique()"
   ]
  },
  {
   "cell_type": "markdown",
   "metadata": {},
   "source": [
    "### Amenities Column"
   ]
  },
  {
   "cell_type": "markdown",
   "metadata": {},
   "source": [
    "For the amenities column we can create a new column with the total number of amenities for each listing."
   ]
  },
  {
   "cell_type": "code",
   "execution_count": 285,
   "metadata": {},
   "outputs": [],
   "source": [
    "listings['amenities_length'] = listings['amenities'].apply(lambda x: len(x.split(',')))"
   ]
  },
  {
   "cell_type": "code",
   "execution_count": 286,
   "metadata": {},
   "outputs": [],
   "source": [
    "listings = listings.drop('amenities', axis=1)"
   ]
  },
  {
   "cell_type": "markdown",
   "metadata": {},
   "source": [
    "### Handling Missing Values"
   ]
  },
  {
   "cell_type": "code",
   "execution_count": 287,
   "metadata": {
    "scrolled": true
   },
   "outputs": [
    {
     "data": {
      "text/plain": [
       "id                           0\n",
       "name                         9\n",
       "listing_url                  0\n",
       "price                        0\n",
       "host_id                      0\n",
       "neighbourhood_cleansed       0\n",
       "latitude                     0\n",
       "longitude                    0\n",
       "property_type                0\n",
       "room_type                    0\n",
       "accommodates                 0\n",
       "bathrooms                    4\n",
       "bedrooms                     3\n",
       "beds                         6\n",
       "bed_type                     0\n",
       "number_of_reviews            0\n",
       "review_scores_rating      2262\n",
       "review_scores_location    2272\n",
       "reviews_per_month         2090\n",
       "amenities_length             0\n",
       "dtype: int64"
      ]
     },
     "execution_count": 287,
     "metadata": {},
     "output_type": "execute_result"
    }
   ],
   "source": [
    "listings.isnull().sum(axis=0)"
   ]
  },
  {
   "cell_type": "markdown",
   "metadata": {},
   "source": [
    "The 'name' column is not truly important here, it was just added so we could have a deeper understaing of the listings at hand. Hence this column will be removed after the cleaning process is over.\n",
    "\n",
    "The columns entitles 'bathrooms', 'bedrooms' and 'beds' have a very small percentage of null values. In this case instead of removing these rows, we will apply the ffill method."
   ]
  },
  {
   "cell_type": "code",
   "execution_count": 288,
   "metadata": {},
   "outputs": [],
   "source": [
    "listings.bathrooms.fillna(method='ffill', inplace=True)\n",
    "listings.bedrooms.fillna(method='ffill', inplace=True)\n",
    "listings.beds.fillna(method='ffill', inplace=True)"
   ]
  },
  {
   "cell_type": "markdown",
   "metadata": {},
   "source": [
    "The 3 last columns appear to have a big percentage of NaN values, this is because they most likely represent listings that had no reviews at the time the data was scraped. For now let's just replace the NaN with '0'."
   ]
  },
  {
   "cell_type": "code",
   "execution_count": 289,
   "metadata": {},
   "outputs": [],
   "source": [
    "listings = listings.fillna(0)"
   ]
  },
  {
   "cell_type": "code",
   "execution_count": 290,
   "metadata": {},
   "outputs": [
    {
     "data": {
      "text/plain": [
       "id                        0\n",
       "name                      0\n",
       "listing_url               0\n",
       "price                     0\n",
       "host_id                   0\n",
       "neighbourhood_cleansed    0\n",
       "latitude                  0\n",
       "longitude                 0\n",
       "property_type             0\n",
       "room_type                 0\n",
       "accommodates              0\n",
       "bathrooms                 0\n",
       "bedrooms                  0\n",
       "beds                      0\n",
       "bed_type                  0\n",
       "number_of_reviews         0\n",
       "review_scores_rating      0\n",
       "review_scores_location    0\n",
       "reviews_per_month         0\n",
       "amenities_length          0\n",
       "dtype: int64"
      ]
     },
     "execution_count": 290,
     "metadata": {},
     "output_type": "execute_result"
    }
   ],
   "source": [
    "listings.isnull().sum(axis=0)"
   ]
  },
  {
   "cell_type": "markdown",
   "metadata": {},
   "source": [
    "Now our the dataset has no NaN values."
   ]
  },
  {
   "cell_type": "code",
   "execution_count": 291,
   "metadata": {},
   "outputs": [
    {
     "data": {
      "text/html": [
       "<div>\n",
       "<style scoped>\n",
       "    .dataframe tbody tr th:only-of-type {\n",
       "        vertical-align: middle;\n",
       "    }\n",
       "\n",
       "    .dataframe tbody tr th {\n",
       "        vertical-align: top;\n",
       "    }\n",
       "\n",
       "    .dataframe thead th {\n",
       "        text-align: right;\n",
       "    }\n",
       "</style>\n",
       "<table border=\"1\" class=\"dataframe\">\n",
       "  <thead>\n",
       "    <tr style=\"text-align: right;\">\n",
       "      <th></th>\n",
       "      <th>id</th>\n",
       "      <th>name</th>\n",
       "      <th>listing_url</th>\n",
       "      <th>price</th>\n",
       "      <th>host_id</th>\n",
       "      <th>neighbourhood_cleansed</th>\n",
       "      <th>latitude</th>\n",
       "      <th>longitude</th>\n",
       "      <th>property_type</th>\n",
       "      <th>room_type</th>\n",
       "      <th>accommodates</th>\n",
       "      <th>bathrooms</th>\n",
       "      <th>bedrooms</th>\n",
       "      <th>beds</th>\n",
       "      <th>bed_type</th>\n",
       "      <th>number_of_reviews</th>\n",
       "      <th>review_scores_rating</th>\n",
       "      <th>review_scores_location</th>\n",
       "      <th>reviews_per_month</th>\n",
       "      <th>amenities_length</th>\n",
       "    </tr>\n",
       "  </thead>\n",
       "  <tbody>\n",
       "    <tr>\n",
       "      <th>0</th>\n",
       "      <td>69074</td>\n",
       "      <td>Beautiful oasis of plants &amp; art and best location</td>\n",
       "      <td>https://www.airbnb.com/rooms/69074</td>\n",
       "      <td>1413</td>\n",
       "      <td>160139</td>\n",
       "      <td>Central &amp; Western</td>\n",
       "      <td>22.283516</td>\n",
       "      <td>114.150177</td>\n",
       "      <td>Apartment</td>\n",
       "      <td>Entire home/apt</td>\n",
       "      <td>3</td>\n",
       "      <td>1.0</td>\n",
       "      <td>1.0</td>\n",
       "      <td>2.0</td>\n",
       "      <td>Real Bed</td>\n",
       "      <td>103</td>\n",
       "      <td>97.0</td>\n",
       "      <td>10.0</td>\n",
       "      <td>1.14</td>\n",
       "      <td>27</td>\n",
       "    </tr>\n",
       "    <tr>\n",
       "      <th>1</th>\n",
       "      <td>101765</td>\n",
       "      <td>Lamma Island flat 2min walk from the beach!</td>\n",
       "      <td>https://www.airbnb.com/rooms/101765</td>\n",
       "      <td>432</td>\n",
       "      <td>532909</td>\n",
       "      <td>Islands</td>\n",
       "      <td>22.200224</td>\n",
       "      <td>114.134609</td>\n",
       "      <td>Other</td>\n",
       "      <td>Entire home/apt</td>\n",
       "      <td>1</td>\n",
       "      <td>1.0</td>\n",
       "      <td>1.0</td>\n",
       "      <td>1.0</td>\n",
       "      <td>Real Bed</td>\n",
       "      <td>2</td>\n",
       "      <td>80.0</td>\n",
       "      <td>8.0</td>\n",
       "      <td>0.63</td>\n",
       "      <td>33</td>\n",
       "    </tr>\n",
       "    <tr>\n",
       "      <th>2</th>\n",
       "      <td>103760</td>\n",
       "      <td>Central Centre 5 min walk to/from Central MTR</td>\n",
       "      <td>https://www.airbnb.com/rooms/103760</td>\n",
       "      <td>855</td>\n",
       "      <td>304876</td>\n",
       "      <td>Central &amp; Western</td>\n",
       "      <td>22.284074</td>\n",
       "      <td>114.155696</td>\n",
       "      <td>Apartment</td>\n",
       "      <td>Entire home/apt</td>\n",
       "      <td>6</td>\n",
       "      <td>1.0</td>\n",
       "      <td>2.0</td>\n",
       "      <td>3.0</td>\n",
       "      <td>Real Bed</td>\n",
       "      <td>229</td>\n",
       "      <td>88.0</td>\n",
       "      <td>9.0</td>\n",
       "      <td>2.66</td>\n",
       "      <td>11</td>\n",
       "    </tr>\n",
       "    <tr>\n",
       "      <th>3</th>\n",
       "      <td>132773</td>\n",
       "      <td>Fabulous 2 Bdrm Aprt Open kitchen</td>\n",
       "      <td>https://www.airbnb.com/rooms/132773</td>\n",
       "      <td>1060</td>\n",
       "      <td>304876</td>\n",
       "      <td>Central &amp; Western</td>\n",
       "      <td>22.288679</td>\n",
       "      <td>114.144944</td>\n",
       "      <td>Apartment</td>\n",
       "      <td>Entire home/apt</td>\n",
       "      <td>6</td>\n",
       "      <td>1.0</td>\n",
       "      <td>2.0</td>\n",
       "      <td>2.0</td>\n",
       "      <td>Real Bed</td>\n",
       "      <td>153</td>\n",
       "      <td>88.0</td>\n",
       "      <td>8.0</td>\n",
       "      <td>1.80</td>\n",
       "      <td>13</td>\n",
       "    </tr>\n",
       "    <tr>\n",
       "      <th>4</th>\n",
       "      <td>133390</td>\n",
       "      <td>Soho, Hong Kong 1 bedroom flat</td>\n",
       "      <td>https://www.airbnb.com/rooms/133390</td>\n",
       "      <td>942</td>\n",
       "      <td>654642</td>\n",
       "      <td>Central &amp; Western</td>\n",
       "      <td>22.283435</td>\n",
       "      <td>114.155392</td>\n",
       "      <td>Apartment</td>\n",
       "      <td>Entire home/apt</td>\n",
       "      <td>2</td>\n",
       "      <td>1.0</td>\n",
       "      <td>1.0</td>\n",
       "      <td>1.0</td>\n",
       "      <td>Real Bed</td>\n",
       "      <td>27</td>\n",
       "      <td>97.0</td>\n",
       "      <td>10.0</td>\n",
       "      <td>0.32</td>\n",
       "      <td>11</td>\n",
       "    </tr>\n",
       "  </tbody>\n",
       "</table>\n",
       "</div>"
      ],
      "text/plain": [
       "       id                                               name  \\\n",
       "0   69074  Beautiful oasis of plants & art and best location   \n",
       "1  101765        Lamma Island flat 2min walk from the beach!   \n",
       "2  103760      Central Centre 5 min walk to/from Central MTR   \n",
       "3  132773                 Fabulous 2 Bdrm Aprt Open kitchen    \n",
       "4  133390                     Soho, Hong Kong 1 bedroom flat   \n",
       "\n",
       "                           listing_url  price  host_id neighbourhood_cleansed  \\\n",
       "0   https://www.airbnb.com/rooms/69074   1413   160139      Central & Western   \n",
       "1  https://www.airbnb.com/rooms/101765    432   532909                Islands   \n",
       "2  https://www.airbnb.com/rooms/103760    855   304876      Central & Western   \n",
       "3  https://www.airbnb.com/rooms/132773   1060   304876      Central & Western   \n",
       "4  https://www.airbnb.com/rooms/133390    942   654642      Central & Western   \n",
       "\n",
       "    latitude   longitude property_type        room_type  accommodates  \\\n",
       "0  22.283516  114.150177     Apartment  Entire home/apt             3   \n",
       "1  22.200224  114.134609         Other  Entire home/apt             1   \n",
       "2  22.284074  114.155696     Apartment  Entire home/apt             6   \n",
       "3  22.288679  114.144944     Apartment  Entire home/apt             6   \n",
       "4  22.283435  114.155392     Apartment  Entire home/apt             2   \n",
       "\n",
       "   bathrooms  bedrooms  beds  bed_type  number_of_reviews  \\\n",
       "0        1.0       1.0   2.0  Real Bed                103   \n",
       "1        1.0       1.0   1.0  Real Bed                  2   \n",
       "2        1.0       2.0   3.0  Real Bed                229   \n",
       "3        1.0       2.0   2.0  Real Bed                153   \n",
       "4        1.0       1.0   1.0  Real Bed                 27   \n",
       "\n",
       "   review_scores_rating  review_scores_location  reviews_per_month  \\\n",
       "0                  97.0                    10.0               1.14   \n",
       "1                  80.0                     8.0               0.63   \n",
       "2                  88.0                     9.0               2.66   \n",
       "3                  88.0                     8.0               1.80   \n",
       "4                  97.0                    10.0               0.32   \n",
       "\n",
       "   amenities_length  \n",
       "0                27  \n",
       "1                33  \n",
       "2                11  \n",
       "3                13  \n",
       "4                11  "
      ]
     },
     "execution_count": 291,
     "metadata": {},
     "output_type": "execute_result"
    }
   ],
   "source": [
    "listings.head()"
   ]
  },
  {
   "cell_type": "markdown",
   "metadata": {},
   "source": [
    "### Finally, let's drop informative columns\n",
    "\n",
    "The columns 'id', 'name', 'listing_url' don't provide any important knowledge worth saving for Data Visualization and/or Modelling. Hence, let's drop these columns."
   ]
  },
  {
   "cell_type": "code",
   "execution_count": 292,
   "metadata": {},
   "outputs": [],
   "source": [
    "listings = listings.drop(['id', 'name', 'listing_url'], axis=1)"
   ]
  },
  {
   "cell_type": "code",
   "execution_count": 293,
   "metadata": {},
   "outputs": [
    {
     "data": {
      "text/plain": [
       "(9226, 17)"
      ]
     },
     "execution_count": 293,
     "metadata": {},
     "output_type": "execute_result"
    }
   ],
   "source": [
    "listings.shape"
   ]
  },
  {
   "cell_type": "code",
   "execution_count": 294,
   "metadata": {},
   "outputs": [
    {
     "data": {
      "text/html": [
       "<div>\n",
       "<style scoped>\n",
       "    .dataframe tbody tr th:only-of-type {\n",
       "        vertical-align: middle;\n",
       "    }\n",
       "\n",
       "    .dataframe tbody tr th {\n",
       "        vertical-align: top;\n",
       "    }\n",
       "\n",
       "    .dataframe thead th {\n",
       "        text-align: right;\n",
       "    }\n",
       "</style>\n",
       "<table border=\"1\" class=\"dataframe\">\n",
       "  <thead>\n",
       "    <tr style=\"text-align: right;\">\n",
       "      <th></th>\n",
       "      <th>price</th>\n",
       "      <th>host_id</th>\n",
       "      <th>neighbourhood_cleansed</th>\n",
       "      <th>latitude</th>\n",
       "      <th>longitude</th>\n",
       "      <th>property_type</th>\n",
       "      <th>room_type</th>\n",
       "      <th>accommodates</th>\n",
       "      <th>bathrooms</th>\n",
       "      <th>bedrooms</th>\n",
       "      <th>beds</th>\n",
       "      <th>bed_type</th>\n",
       "      <th>number_of_reviews</th>\n",
       "      <th>review_scores_rating</th>\n",
       "      <th>review_scores_location</th>\n",
       "      <th>reviews_per_month</th>\n",
       "      <th>amenities_length</th>\n",
       "    </tr>\n",
       "  </thead>\n",
       "  <tbody>\n",
       "    <tr>\n",
       "      <th>0</th>\n",
       "      <td>1413</td>\n",
       "      <td>160139</td>\n",
       "      <td>Central &amp; Western</td>\n",
       "      <td>22.283516</td>\n",
       "      <td>114.150177</td>\n",
       "      <td>Apartment</td>\n",
       "      <td>Entire home/apt</td>\n",
       "      <td>3</td>\n",
       "      <td>1.0</td>\n",
       "      <td>1.0</td>\n",
       "      <td>2.0</td>\n",
       "      <td>Real Bed</td>\n",
       "      <td>103</td>\n",
       "      <td>97.0</td>\n",
       "      <td>10.0</td>\n",
       "      <td>1.14</td>\n",
       "      <td>27</td>\n",
       "    </tr>\n",
       "    <tr>\n",
       "      <th>1</th>\n",
       "      <td>432</td>\n",
       "      <td>532909</td>\n",
       "      <td>Islands</td>\n",
       "      <td>22.200224</td>\n",
       "      <td>114.134609</td>\n",
       "      <td>Other</td>\n",
       "      <td>Entire home/apt</td>\n",
       "      <td>1</td>\n",
       "      <td>1.0</td>\n",
       "      <td>1.0</td>\n",
       "      <td>1.0</td>\n",
       "      <td>Real Bed</td>\n",
       "      <td>2</td>\n",
       "      <td>80.0</td>\n",
       "      <td>8.0</td>\n",
       "      <td>0.63</td>\n",
       "      <td>33</td>\n",
       "    </tr>\n",
       "    <tr>\n",
       "      <th>2</th>\n",
       "      <td>855</td>\n",
       "      <td>304876</td>\n",
       "      <td>Central &amp; Western</td>\n",
       "      <td>22.284074</td>\n",
       "      <td>114.155696</td>\n",
       "      <td>Apartment</td>\n",
       "      <td>Entire home/apt</td>\n",
       "      <td>6</td>\n",
       "      <td>1.0</td>\n",
       "      <td>2.0</td>\n",
       "      <td>3.0</td>\n",
       "      <td>Real Bed</td>\n",
       "      <td>229</td>\n",
       "      <td>88.0</td>\n",
       "      <td>9.0</td>\n",
       "      <td>2.66</td>\n",
       "      <td>11</td>\n",
       "    </tr>\n",
       "    <tr>\n",
       "      <th>3</th>\n",
       "      <td>1060</td>\n",
       "      <td>304876</td>\n",
       "      <td>Central &amp; Western</td>\n",
       "      <td>22.288679</td>\n",
       "      <td>114.144944</td>\n",
       "      <td>Apartment</td>\n",
       "      <td>Entire home/apt</td>\n",
       "      <td>6</td>\n",
       "      <td>1.0</td>\n",
       "      <td>2.0</td>\n",
       "      <td>2.0</td>\n",
       "      <td>Real Bed</td>\n",
       "      <td>153</td>\n",
       "      <td>88.0</td>\n",
       "      <td>8.0</td>\n",
       "      <td>1.80</td>\n",
       "      <td>13</td>\n",
       "    </tr>\n",
       "    <tr>\n",
       "      <th>4</th>\n",
       "      <td>942</td>\n",
       "      <td>654642</td>\n",
       "      <td>Central &amp; Western</td>\n",
       "      <td>22.283435</td>\n",
       "      <td>114.155392</td>\n",
       "      <td>Apartment</td>\n",
       "      <td>Entire home/apt</td>\n",
       "      <td>2</td>\n",
       "      <td>1.0</td>\n",
       "      <td>1.0</td>\n",
       "      <td>1.0</td>\n",
       "      <td>Real Bed</td>\n",
       "      <td>27</td>\n",
       "      <td>97.0</td>\n",
       "      <td>10.0</td>\n",
       "      <td>0.32</td>\n",
       "      <td>11</td>\n",
       "    </tr>\n",
       "  </tbody>\n",
       "</table>\n",
       "</div>"
      ],
      "text/plain": [
       "   price  host_id neighbourhood_cleansed   latitude   longitude property_type  \\\n",
       "0   1413   160139      Central & Western  22.283516  114.150177     Apartment   \n",
       "1    432   532909                Islands  22.200224  114.134609         Other   \n",
       "2    855   304876      Central & Western  22.284074  114.155696     Apartment   \n",
       "3   1060   304876      Central & Western  22.288679  114.144944     Apartment   \n",
       "4    942   654642      Central & Western  22.283435  114.155392     Apartment   \n",
       "\n",
       "         room_type  accommodates  bathrooms  bedrooms  beds  bed_type  \\\n",
       "0  Entire home/apt             3        1.0       1.0   2.0  Real Bed   \n",
       "1  Entire home/apt             1        1.0       1.0   1.0  Real Bed   \n",
       "2  Entire home/apt             6        1.0       2.0   3.0  Real Bed   \n",
       "3  Entire home/apt             6        1.0       2.0   2.0  Real Bed   \n",
       "4  Entire home/apt             2        1.0       1.0   1.0  Real Bed   \n",
       "\n",
       "   number_of_reviews  review_scores_rating  review_scores_location  \\\n",
       "0                103                  97.0                    10.0   \n",
       "1                  2                  80.0                     8.0   \n",
       "2                229                  88.0                     9.0   \n",
       "3                153                  88.0                     8.0   \n",
       "4                 27                  97.0                    10.0   \n",
       "\n",
       "   reviews_per_month  amenities_length  \n",
       "0               1.14                27  \n",
       "1               0.63                33  \n",
       "2               2.66                11  \n",
       "3               1.80                13  \n",
       "4               0.32                11  "
      ]
     },
     "execution_count": 294,
     "metadata": {},
     "output_type": "execute_result"
    }
   ],
   "source": [
    "listings.head()"
   ]
  },
  {
   "cell_type": "markdown",
   "metadata": {},
   "source": [
    "### Save the cleansed dataset"
   ]
  },
  {
   "cell_type": "code",
   "execution_count": 295,
   "metadata": {},
   "outputs": [],
   "source": [
    "listings.to_csv('data/listings_cleansed.csv')"
   ]
  }
 ],
 "metadata": {
  "kernelspec": {
   "display_name": "Python 3",
   "language": "python",
   "name": "python3"
  },
  "language_info": {
   "codemirror_mode": {
    "name": "ipython",
    "version": 3
   },
   "file_extension": ".py",
   "mimetype": "text/x-python",
   "name": "python",
   "nbconvert_exporter": "python",
   "pygments_lexer": "ipython3",
   "version": "3.6.5"
  }
 },
 "nbformat": 4,
 "nbformat_minor": 2
}
